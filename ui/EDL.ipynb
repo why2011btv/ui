{
 "cells": [
  {
   "cell_type": "code",
   "execution_count": 1,
   "metadata": {},
   "outputs": [
    {
     "name": "stdout",
     "output_type": "stream",
     "text": [
      "[('European', 'NORP'), ('Google', 'ORG'), ('$5.1 billion', 'MONEY'), ('Wednesday', 'DATE')]\n"
     ]
    }
   ],
   "source": [
    "import spacy\n",
    "from spacy import displacy\n",
    "from collections import Counter\n",
    "import en_core_web_sm\n",
    "nlp = spacy.load('en_core_web_sm')\n",
    "doc = nlp('European authorities fined Google a record $5.1 billion on Wednesday for abusing its power in the mobile phone market and ordered the company to alter its practices')\n",
    "print([(X.text, X.label_) for X in doc.ents])"
   ]
  },
  {
   "cell_type": "code",
   "execution_count": 3,
   "metadata": {},
   "outputs": [
    {
     "data": {
      "text/html": [
       "<!DOCTYPE HTML PUBLIC \"-//W3C//DTD HTML 4.01 Transitional//EN\" \"http://www.w3.org/TR/html4/loose.dtd\">\n",
       "<html>\n",
       "<head>\n",
       "<title>DBpedia Spotlight annotation</title>\n",
       "<meta http-equiv=\"Content-type\" content=\"text/html;charset=UTF-8\">\n",
       "</head>\n",
       "<body>\n",
       "<div>\n",
       "My name is Sundar. I am currently doing Master's in <a href=\"http://dbpedia.org/resource/Artificial_intelligence\" title=\"http://dbpedia.org/resource/Artificial_intelligence\" target=\"_blank\">Artificial Intelligence</a> at <a href=\"http://dbpedia.org/resource/National_University_of_Singapore\" title=\"http://dbpedia.org/resource/National_University_of_Singapore\" target=\"_blank\">NUS</a>. I <a href=\"http://dbpedia.org/resource/Love\" title=\"http://dbpedia.org/resource/Love\" target=\"_blank\">love</a> <a href=\"http://dbpedia.org/resource/Natural_language_processing\" title=\"http://dbpedia.org/resource/Natural_language_processing\" target=\"_blank\">Natural Language Processing</a>.\n",
       "</div>\n",
       "</body>\n",
       "</html>"
      ],
      "text/plain": [
       "<IPython.core.display.HTML object>"
      ]
     },
     "metadata": {},
     "output_type": "display_data"
    },
    {
     "name": "stderr",
     "output_type": "stream",
     "text": [
      "/Users/why16gzl/Documents/CIS_555/SearchEngine/ui/edl.py:25: GuessedAtParserWarning: No parser was explicitly specified, so I'm using the best available HTML parser for this system (\"html.parser\"). This usually isn't a problem, but if you run this code on another system, or in a different virtual environment, it may use a different parser and behave differently.\n",
      "\n",
      "The code that caused this warning is on line 25 of the file /Users/why16gzl/Documents/CIS_555/SearchEngine/ui/edl.py. To get rid of this warning, pass the additional argument 'features=\"html.parser\"' to the BeautifulSoup constructor.\n",
      "\n",
      "  soup = BeautifulSoup(source_code)\n",
      "/Users/why16gzl/Documents/CIS_555/SearchEngine/ui/edl.py:26: GuessedAtParserWarning: No parser was explicitly specified, so I'm using the best available HTML parser for this system (\"html.parser\"). This usually isn't a problem, but if you run this code on another system, or in a different virtual environment, it may use a different parser and behave differently.\n",
      "\n",
      "The code that caused this warning is on line 26 of the file /Users/why16gzl/Documents/CIS_555/SearchEngine/ui/edl.py. To get rid of this warning, pass the additional argument 'features=\"html.parser\"' to the BeautifulSoup constructor.\n",
      "\n",
      "  return BeautifulSoup(str(soup.div)[6:-7])\n"
     ]
    },
    {
     "data": {
      "text/plain": [
       "My name is Sundar. I am currently doing Master's in <a href=\"http://dbpedia.org/resource/Artificial_intelligence\" target=\"_blank\" title=\"http://dbpedia.org/resource/Artificial_intelligence\">Artificial Intelligence</a> at <a href=\"http://dbpedia.org/resource/National_University_of_Singapore\" target=\"_blank\" title=\"http://dbpedia.org/resource/National_University_of_Singapore\">NUS</a>. I <a href=\"http://dbpedia.org/resource/Love\" target=\"_blank\" title=\"http://dbpedia.org/resource/Love\">love</a> <a href=\"http://dbpedia.org/resource/Natural_language_processing\" target=\"_blank\" title=\"http://dbpedia.org/resource/Natural_language_processing\">Natural Language Processing</a>."
      ]
     },
     "metadata": {},
     "output_type": "display_data"
    }
   ],
   "source": [
    "import requests\n",
    "from edl import *\n",
    "from IPython.core.display import display, HTML# An API Error Exception\n",
    "class APIError(Exception):\n",
    "    def __init__(self, status):\n",
    "        self.status = status\n",
    "    def __str__(self):\n",
    "        return \"APIError: status={}\".format(self.status)\n",
    "      \n",
    "# Base URL for Spotlight API\n",
    "base_url = \"http://api.dbpedia-spotlight.org/en/annotate\"# Parameters \n",
    "# 'text' - text to be annotated \n",
    "# 'confidence' -   confidence score for linking\n",
    "params = {\"text\": \"My name is Sundar. I am currently doing Master's in Artificial Intelligence at NUS. I love Natural Language Processing.\", \"confidence\": 0.35}# Response content type\n",
    "headers = {'accept': 'text/html'}# GET Request\n",
    "res = requests.get(base_url, params=params, headers=headers)\n",
    "if res.status_code != 200:\n",
    "    # Something went wrong\n",
    "    raise APIError(res.status_code)# Display the result as HTML in Jupyter Notebook\n",
    "display(HTML(res.text))\n",
    "display(edl(params['text']))"
   ]
  },
  {
   "cell_type": "code",
   "execution_count": null,
   "metadata": {},
   "outputs": [],
   "source": [
    "res.text"
   ]
  },
  {
   "cell_type": "code",
   "execution_count": null,
   "metadata": {},
   "outputs": [],
   "source": [
    "from bs4 import BeautifulSoup\n",
    "source_code = res.text\n",
    "soup = BeautifulSoup(source_code)\n",
    "print(str(soup.div)[6:-7])"
   ]
  },
  {
   "cell_type": "code",
   "execution_count": null,
   "metadata": {},
   "outputs": [],
   "source": [
    "from edl import *\n"
   ]
  },
  {
   "cell_type": "code",
   "execution_count": null,
   "metadata": {},
   "outputs": [],
   "source": [
    "BeautifulSoup(edl(\"My name is Sundar. I am currently doing Master's in Artificial Intelligence at NUS. I love Natural Language Processing.\"))"
   ]
  },
  {
   "cell_type": "code",
   "execution_count": null,
   "metadata": {},
   "outputs": [],
   "source": []
  }
 ],
 "metadata": {
  "kernelspec": {
   "display_name": "EMNLP_env",
   "language": "python",
   "name": "emnlp_env"
  },
  "language_info": {
   "codemirror_mode": {
    "name": "ipython",
    "version": 3
   },
   "file_extension": ".py",
   "mimetype": "text/x-python",
   "name": "python",
   "nbconvert_exporter": "python",
   "pygments_lexer": "ipython3",
   "version": "3.8.5"
  }
 },
 "nbformat": 4,
 "nbformat_minor": 4
}
